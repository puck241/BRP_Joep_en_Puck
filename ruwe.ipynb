{
 "cells": [
  {
   "cell_type": "code",
   "execution_count": 1,
   "id": "d854fb43",
   "metadata": {},
   "outputs": [],
   "source": [
    "import numpy as np"
   ]
  },
  {
   "cell_type": "code",
   "execution_count": 2,
   "id": "1900c408",
   "metadata": {},
   "outputs": [],
   "source": [
    "file = 'coordinates_ruwe.csv'"
   ]
  },
  {
   "cell_type": "code",
   "execution_count": 3,
   "id": "8a6f4d75",
   "metadata": {},
   "outputs": [],
   "source": [
    "#data_type = np.dtype([('name', 'U29'), ('type', 'U1'),('ra', 'U12'), \n",
    "#                      ('dec', 'U12'), ('ruwe', 'float'), ('gaia_id', 'U28')])\n",
    "\n",
    "data_type = np.dtype([('name', 'U29'), ('type', 'U1'), ('ruwe', 'f')])"
   ]
  },
  {
   "cell_type": "code",
   "execution_count": 5,
   "id": "9df498e2",
   "metadata": {},
   "outputs": [],
   "source": [
    "data = np.loadtxt(file, dtype = data_type, skiprows = 1,\n",
    "                  delimiter = ',', usecols = (0, 1, 4))"
   ]
  },
  {
   "cell_type": "code",
   "execution_count": 6,
   "id": "f63ace06",
   "metadata": {},
   "outputs": [],
   "source": [
    "single = data[(data['type'] == 's')]\n",
    "binary = data[(data['type'] == 'b')]"
   ]
  },
  {
   "cell_type": "code",
   "execution_count": 7,
   "id": "fe03e426",
   "metadata": {},
   "outputs": [
    {
     "name": "stdout",
     "output_type": "stream",
     "text": [
      "Amount of single stars: 65\n",
      "Amount of binary stars: 27\n"
     ]
    }
   ],
   "source": [
    "print(f'Amount of single stars: {len(single)}\\nAmount of binary stars: {len(binary)}')"
   ]
  },
  {
   "cell_type": "code",
   "execution_count": 8,
   "id": "1c675189",
   "metadata": {},
   "outputs": [],
   "source": [
    "av_ruwe_bin = np.mean(binary['ruwe'])\n",
    "std_ruwe_bin = np.std(binary['ruwe'])"
   ]
  },
  {
   "cell_type": "code",
   "execution_count": 9,
   "id": "a983251f",
   "metadata": {},
   "outputs": [
    {
     "name": "stdout",
     "output_type": "stream",
     "text": [
      "Averge RUWE for binary stars is 3.98+-3.40\n"
     ]
    }
   ],
   "source": [
    "print(f'Averge RUWE for binary stars is {av_ruwe_bin:.2f}+-{std_ruwe_bin:.2f}')"
   ]
  },
  {
   "cell_type": "code",
   "execution_count": 10,
   "id": "9c5e1dee",
   "metadata": {},
   "outputs": [],
   "source": [
    "av_ruwe_sin = np.mean(single['ruwe'])\n",
    "std_ruwe_sin = np.std(single['ruwe'])"
   ]
  },
  {
   "cell_type": "code",
   "execution_count": 11,
   "id": "ecbbb309",
   "metadata": {},
   "outputs": [
    {
     "name": "stdout",
     "output_type": "stream",
     "text": [
      "Averge RUWE for single stars is 2.22+-3.35\n"
     ]
    }
   ],
   "source": [
    "print(f'Averge RUWE for single stars is {av_ruwe_sin:.2f}+-{std_ruwe_sin:.2f}')"
   ]
  },
  {
   "cell_type": "code",
   "execution_count": 12,
   "id": "5f22193b",
   "metadata": {},
   "outputs": [],
   "source": [
    "good = data[(data['ruwe'] <= 1.4)]\n",
    "bad = data[(data['ruwe'] > 1.4)]"
   ]
  },
  {
   "cell_type": "code",
   "execution_count": 13,
   "id": "4d87630e",
   "metadata": {},
   "outputs": [
    {
     "name": "stdout",
     "output_type": "stream",
     "text": [
      "Amount of good stars: 58\n",
      "Amount of bad stars: 34\n"
     ]
    }
   ],
   "source": [
    "print(f'Amount of good stars: {len(good)}\\nAmount of bad stars: {len(bad)}')"
   ]
  },
  {
   "cell_type": "code",
   "execution_count": 21,
   "id": "dd6bf380",
   "metadata": {},
   "outputs": [
    {
     "name": "stdout",
     "output_type": "stream",
     "text": [
      "92\n",
      "The percentage of stars with RUWE > 1.4 that are actually binaries is 55.9%.\n"
     ]
    }
   ],
   "source": [
    "#How many stars with ruwe > 1.4 are actually binaries?\n",
    "true_binary = bad[(bad['type'] == 'b')]\n",
    "per_tb = len(true_binary)/len(bad) * 100\n",
    "print(len(bad)+len(good))\n",
    "print(f'The percentage of stars with RUWE > 1.4 that are actually binaries is {per_tb:.1f}%.')"
   ]
  },
  {
   "cell_type": "code",
   "execution_count": 15,
   "id": "8554f48f",
   "metadata": {},
   "outputs": [
    {
     "name": "stdout",
     "output_type": "stream",
     "text": [
      "The percentage of stars with RUWE <= 1.4 that are actually single stars is 86.2%.\n"
     ]
    }
   ],
   "source": [
    "#How many stars with ruwe <= are actually single stars?\n",
    "true_single = good[(good['type'] == 's')]\n",
    "per_ts = len(true_single)/len(good) * 100\n",
    "\n",
    "print(f'The percentage of stars with RUWE <= 1.4 that are actually single stars is {per_ts:.1f}%.')\n"
   ]
  },
  {
   "cell_type": "code",
   "execution_count": 16,
   "id": "17e91449",
   "metadata": {},
   "outputs": [
    {
     "name": "stdout",
     "output_type": "stream",
     "text": [
      "The percentage of binaries with a RUWE > 1.4 is 70.4%.\n"
     ]
    }
   ],
   "source": [
    "#How many binaries have a ruwe > 1.4?\n",
    "bin_bad_ruwe = binary[(binary['ruwe'] > 1.4)]\n",
    "per_bin_bad_ruwe = len(bin_bad_ruwe)/len(binary) * 100\n",
    "\n",
    "print(f'The percentage of binaries with a RUWE > 1.4 is {per_bin_bad_ruwe:.1f}%.')"
   ]
  },
  {
   "cell_type": "code",
   "execution_count": 17,
   "id": "11a23483",
   "metadata": {},
   "outputs": [
    {
     "name": "stdout",
     "output_type": "stream",
     "text": [
      "The percentage of single stars with a RUWE <= 1.4 is 76.9%.\n"
     ]
    }
   ],
   "source": [
    "#How many single stars have a ruwe <= 1.4?\n",
    "sin_good_ruwe = single[(single['ruwe'] <= 1.4)]\n",
    "per_sin_good_ruwe = len(sin_good_ruwe)/len(single) * 100\n",
    "\n",
    "print(f'The percentage of single stars with a RUWE <= 1.4 is {per_sin_good_ruwe:.1f}%.')"
   ]
  },
  {
   "cell_type": "code",
   "execution_count": 23,
   "id": "3f9d3c86",
   "metadata": {},
   "outputs": [
    {
     "data": {
      "text/plain": [
       "array([('2MASSJ12101065-4855476', 's', 16.035),\n",
       "       ('2MASSJ12480778-4439167', 's', 16.217),\n",
       "       ('2MASSJ12560830-6926539', 'b', 13.056),\n",
       "       ('UCAC4_406-011818', 'b', 12.19 ),\n",
       "       ('UCAC4_461-018326', 's', 15.867)],\n",
       "      dtype=[('name', '<U29'), ('type', '<U1'), ('ruwe', '<f4')])"
      ]
     },
     "execution_count": 23,
     "metadata": {},
     "output_type": "execute_result"
    }
   ],
   "source": [
    "data[(data['ruwe'] >= 12)]"
   ]
  },
  {
   "cell_type": "code",
   "execution_count": 25,
   "id": "9e24ec53",
   "metadata": {},
   "outputs": [
    {
     "data": {
      "text/plain": [
       "(array([68.,  5.,  4.,  7.,  2.,  1.,  0.,  2.,  0.,  3.]),\n",
       " array([ 0.75400001,  2.30029988,  3.84659982,  5.39289951,  6.93919945,\n",
       "         8.48549938, 10.03179932, 11.57809925, 13.12439919, 14.67069912,\n",
       "        16.21699905]),\n",
       " <BarContainer object of 10 artists>)"
      ]
     },
     "execution_count": 25,
     "metadata": {},
     "output_type": "execute_result"
    },
    {
     "data": {
      "image/png": "[encoded data removed]",
      "text/plain": [
       "<Figure size 640x480 with 1 Axes>"
      ]
     },
     "metadata": {},
     "output_type": "display_data"
    }
   ],
   "source": [
    "import matplotlib.pyplot as plt\n",
    "plt.hist(data['ruwe'])"
   ]
  },
  {
   "cell_type": "code",
   "execution_count": null,
   "id": "d2b278b3",
   "metadata": {},
   "outputs": [],
   "source": []
  }
 ],
 "metadata": {
  "kernelspec": {
   "display_name": "Python 3 (ipykernel)",
   "language": "python",
   "name": "python3"
  },
  "language_info": {
   "codemirror_mode": {
    "name": "ipython",
    "version": 3
   },
   "file_extension": ".py",
   "mimetype": "text/x-python",
   "name": "python",
   "nbconvert_exporter": "python",
   "pygments_lexer": "ipython3",
   "version": "3.10.9"
  }
 },
 "nbformat": 4,
 "nbformat_minor": 5
}
