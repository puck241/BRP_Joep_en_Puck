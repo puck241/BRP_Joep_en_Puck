{
 "cells": [
  {
   "cell_type": "markdown",
   "id": "924a73a6",
   "metadata": {},
   "source": [
    "# 1. Set-up\n",
    "- Import libraries\n",
    "- Define directories\n",
    "- Split arrays into single, binary and weird"
   ]
  },
  {
   "cell_type": "code",
   "execution_count": 2,
   "id": "b5a8a020",
   "metadata": {},
   "outputs": [],
   "source": [
    "import numpy as np\n",
    "import matplotlib.pyplot as plt\n",
    "import astropy.io.fits as f\n",
    "from os import listdir"
   ]
  },
  {
   "cell_type": "code",
   "execution_count": 3,
   "id": "01daa406",
   "metadata": {},
   "outputs": [],
   "source": [
    "path = '/home/puck/documents/brp/data' #puck\n",
    "#path = r'C:\\Users\\joepn\\OneDrive\\Documenten\\BRP\\data' #joep"
   ]
  },
  {
   "cell_type": "code",
   "execution_count": 4,
   "id": "7f5ae292",
   "metadata": {},
   "outputs": [],
   "source": [
    "#The images containing weird artifacts that make them useless\n",
    "weird_names = np.array(['2MASSJ11320835-5803199', '2MASSJ12041439-6418516', \n",
    "                        '2MASSJ12123577-5520273', '2MASSJ12192161-6454101', \n",
    "                        '2MASSJ12205449-6457242', '2MASSJ12472196-6808397',\n",
    "                        '2MASSJ12582559-7028490', '2MASSJ13032904-4723160',])\n",
    "\n",
    "#2MASSJ13032904-4723160 is star without flux image"
   ]
  },
  {
   "cell_type": "code",
   "execution_count": 5,
   "id": "dbf47a33",
   "metadata": {},
   "outputs": [],
   "source": [
    "#The binaries we found in our initial search\n",
    "bin1 = np.array(['2MASSJ11555771-5254008', '2MASSJ12560830-6926539', \n",
    "                 '2MASSJ13015435-4249422', '2MASSJ13130714-4537438', \n",
    "                 'CD-43_3604', 'CVSO_751', 'Gaia_EDR3_3008386787098934144',\n",
    "                 'HD_283629', 'HD_284266', 'HD_286179', 'UCAC4_454-011718', \n",
    "                 'UCAC4_475-014428', 'UCAC4_495-030196','UCAC4_501-011878'])\n",
    "\n",
    "#The binaries we found in our second searcg\n",
    "bin2 = np.array(['2MASSJ10065573-6352086','2MASSJ11272881-3952572',\n",
    "                 '2MASSJ11445217-6438548','2MASSJ11452016-5749094',\n",
    "                 '2MASSJ12163007-6711477','2MASSJ12185802-5737191',\n",
    "                 '2MASSJ12210808-5212226','2MASSJ12234012-5616325',\n",
    "                 '2MASSJ13055087-5304181','2MASSJ13103245-4817036',\n",
    "                 '2MASSJ13174687-4456534','2MASSJ13335481-6536414',\n",
    "                 'CoRoT_102718810','Gaia_EDR3_3014970387847972096',\n",
    "                 'IRAS_08131-4432','RX_J2302.6+0034','UCAC4_127-038351',\n",
    "                 'UCAC4_134-015937','UCAC4_406-011818','UCAC4_461-018326',\n",
    "                 'UCAC4_482-118442','UCAC4_496-013657','UCAC4_519-042115',\n",
    "                 'V1319_TAU'])\n",
    "\n",
    "bin_names = np.append(bin1, bin2)"
   ]
  },
  {
   "cell_type": "code",
   "execution_count": 6,
   "id": "6e54f0f2",
   "metadata": {},
   "outputs": [],
   "source": [
    "bin_wispit = np.array(['CoRoT_102718810','Gaia_EDR3_3014970387847972096',\n",
    "                     'IRAS_08131-4432','RX_J2302.6+0034','UCAC4_127-038351',\n",
    "                     'UCAC4_134-015937','UCAC4_406-011818','UCAC4_461-018326',\n",
    "                     'UCAC4_482-118442','UCAC4_496-013657','UCAC4_519-042115',\n",
    "                     'V1319_TAU','CD-43_3604', 'CVSO_751', 'Gaia_EDR3_3008386787098934144',\n",
    "                     'HD_283629', 'HD_284266', 'HD_286179', 'UCAC4_454-011718', \n",
    "                     'UCAC4_475-014428', 'UCAC4_495-030196','UCAC4_501-011878'])\n",
    "\n",
    "bin_yses = np.array(['2MASSJ10065573-6352086','2MASSJ11272881-3952572',\n",
    "                     '2MASSJ11445217-6438548','2MASSJ11452016-5749094',\n",
    "                     '2MASSJ12163007-6711477','2MASSJ12185802-5737191',\n",
    "                     '2MASSJ12210808-5212226','2MASSJ12234012-5616325',\n",
    "                     '2MASSJ13055087-5304181','2MASSJ13103245-4817036',\n",
    "                     '2MASSJ13174687-4456534','2MASSJ13335481-6536414',\n",
    "                     '2MASSJ11555771-5254008','2MASSJ12560830-6926539',\n",
    "                     '2MASSJ13015435-4249422','2MASSJ13130714-4537438',])"
   ]
  },
  {
   "cell_type": "code",
   "execution_count": 7,
   "id": "f567bd31",
   "metadata": {},
   "outputs": [],
   "source": [
    "sin_wispit = np.array(['2MASS_J05162151+1147472', '2MASS_J05264348+0143538',\n",
    "                       '2MASS_J06145339+0003000', 'GAIA_DR3_5854897321965963264',\n",
    "                       'HD_285372', 'HD_285579', 'HD_285778','HD_285840',\n",
    "                       'J_618A', 'NSVS_14407747', 'UCAC4_141-082231', \n",
    "                       'UCAC4_200-015587', 'UCAC4_280-010722', 'UCAC4_312-058127',\n",
    "                       'UCAC4_319-026529', 'UCAC4_446-032370', 'UCAC4_537-015077',\n",
    "                       'V_V1267_CEN', 'V_V1346_Tau', 'V_V826_Tau'])\n",
    "\n",
    "sin_yses = np.array(['2MASSJ10560422-6152054', '2MASSJ11175186-6402056',\n",
    "                     '2MASSJ11275535-6626046', '2MASSJ11454278-5739285',\n",
    "                     '2MASSJ12065276-5044463', '2MASSJ12090225-5120410',\n",
    "                     '2MASSJ12101065-4855476', '2MASSJ12113142-5816533',\n",
    "                     '2MASSJ12121119-4950081', '2MASSJ12160114-5614068',\n",
    "                     '2MASSJ12164023-7007361', '2MASSJ12195938-5018404',\n",
    "                     '2MASSJ12210499-7116493', '2MASSJ12220430-4841248',\n",
    "                     '2MASSJ12240975-6003416', '2MASSJ12264842-5215070',\n",
    "                     '2MASSJ12302957-5222269', '2MASSJ12333381-5714066',\n",
    "                     '2MASSJ12361767-5042421', '2MASSJ12365895-5412178',\n",
    "                     '2MASSJ12374883-5209463', '2MASSJ12383556-5916438',\n",
    "                     '2MASSJ12391404-5454469', '2MASSJ12393796-5731406',\n",
    "                     '2MASSJ12404664-5211046', '2MASSJ12405458-5031550',\n",
    "                     '2MASSJ12454884-5410583', '2MASSJ12480778-4439167',\n",
    "                     '2MASSJ12505143-5156353', '2MASSJ12510556-5253121',\n",
    "                     '2MASSJ13015069-5304581', '2MASSJ13064012-5159386',\n",
    "                     '2MASSJ13065439-4541313', '2MASSJ13095880-4527388',\n",
    "                     '2MASSJ13121764-5508258', '2MASSJ13233587-4718467',\n",
    "                     '2MASSJ13251211-6456207', '2MASSJ13334410-6359345',\n",
    "                     '2MASSJ13343188-4209305', '2MASSJ13354082-4818124',\n",
    "                     '2MASSJ13380596-4344564', '2MASSJ13381128-5214251',\n",
    "                     '2MASSJ13444279-6347495', '2MASSJ13455599-5222255'])\n",
    "\n",
    "sin_names = np.append(sin_wispit, sin_yses)"
   ]
  },
  {
   "cell_type": "code",
   "execution_count": 8,
   "id": "2a2aa6cb",
   "metadata": {},
   "outputs": [],
   "source": [
    "#Array containing the names of all stars\n",
    "all_stars = np.array(sorted(listdir(path)))"
   ]
  },
  {
   "cell_type": "markdown",
   "id": "077144cf",
   "metadata": {},
   "source": [
    "# 2. Retrieve the data \n",
    "- Write a function which retrieves the name of the star and the date of observation\n",
    "- Write a function to retrieve the data of one star\n",
    "- Write a function which combines all this data into one array"
   ]
  },
  {
   "cell_type": "code",
   "execution_count": 9,
   "id": "4c7d6fad",
   "metadata": {},
   "outputs": [],
   "source": [
    "def star_info(star_list, idx):\n",
    "    ''' Returns the name of the star and date of observation as a tuple. '''\n",
    "    return star_list[idx], listdir(f'{path}/{star_list[idx]}')[0]"
   ]
  },
  {
   "cell_type": "code",
   "execution_count": 10,
   "id": "9404bc86",
   "metadata": {},
   "outputs": [],
   "source": [
    "def star_data(star_list):\n",
    "    ''' Returns the flux data of the stars in star_list in a 3d np.array. '''\n",
    "    arr = np.empty((len(star_list), 1024, 1024))\n",
    "    for i in range(len(star_list)):\n",
    "        name, date = star_info(star_list, i)\n",
    "        with f.open(f'{path}/{name}/{date}/B_H/calibration/flux/' + \n",
    "                    f'{name}_{date}_cube_flux_processed_right.fits') as hdul:\n",
    "            data = hdul[0].data\n",
    "        arr[i] = data[0]\n",
    "    return arr"
   ]
  },
  {
   "cell_type": "code",
   "execution_count": 11,
   "id": "5e9c510e",
   "metadata": {},
   "outputs": [],
   "source": [
    "sin_data = star_data(sin_names)"
   ]
  },
  {
   "cell_type": "markdown",
   "id": "d2a394da",
   "metadata": {},
   "source": [
    "# 3. Data reduction\n",
    "- Circle of radius 100 pixels around center\n",
    "- 200 x 200 pixelsaround center"
   ]
  },
  {
   "cell_type": "code",
   "execution_count": 12,
   "id": "21148a43",
   "metadata": {},
   "outputs": [],
   "source": [
    "def mask_but_center(arr):\n",
    "    ''' Masks everything but the area with radius r in a circle around the center. '''\n",
    "    x = y = np.linspace(-(len(arr))/2, (len(arr))/2, len(arr))\n",
    "    x_grid, y_grid = np.meshgrid(x, y)\n",
    "    r_grid = np.sqrt(x_grid**2 + y_grid**2)\n",
    "    arr[r_grid > 100] = None \n",
    "    return arr\n",
    "\n",
    "def normalize(arr):\n",
    "    ''' Normalizes the array '''\n",
    "    arr = np.array(arr,dtype=np.float64)\n",
    "    return arr/np.nanmax(arr)\n",
    "\n",
    "def data_reduction(arr):\n",
    "    ''' Masks and then normalizes an array with one image. '''\n",
    "    mask_arr = mask_but_center(arr)\n",
    "    norm_arr = normalize(mask_arr)\n",
    "    return norm_arr"
   ]
  },
  {
   "cell_type": "code",
   "execution_count": 13,
   "id": "c2884dbf",
   "metadata": {},
   "outputs": [],
   "source": [
    "#Array with all the single stars but then masked and normalized\n",
    "sin_data_copy = sin_data.copy()\n",
    "sin_clb = np.array([data_reduction(sin_data_copy[i]) for i in range(len(sin_names))])"
   ]
  },
  {
   "cell_type": "markdown",
   "id": "5b5e76ae",
   "metadata": {},
   "source": [
    "# 4. Finding the perfect median star\n",
    "- Cut out an aperture around the star\n",
    "- Calculate the RMS of each little square to determine the noise\n",
    "- Combine all these RMS in an array and sort them from best to worst\n",
    "- Write a function that calculates the median of an array of stars\n",
    "- Write a function "
   ]
  },
  {
   "cell_type": "code",
   "execution_count": 14,
   "id": "e53a2eb4",
   "metadata": {},
   "outputs": [],
   "source": [
    "def mask_aperture(arr):\n",
    "    ''' Picks out a ring between radius 20 and 30 around the star and returns this.  '''\n",
    "    x = y = np.linspace(-(len(arr))/2, (len(arr))/2, len(arr))\n",
    "    x_grid, y_grid = np.meshgrid(x, y)\n",
    "    r_grid = np.sqrt(x_grid**2 + y_grid**2)\n",
    "    arr[r_grid > 50] = None \n",
    "    arr[r_grid < 30] = None\n",
    "    return arr\n",
    "\n",
    "def arr_sort_rms(arr):\n",
    "    ''' Returns an array with indexes of the image with the best rms first and the worst rms last and\n",
    "    returns the single star array sorted from best to worst rms. '''\n",
    "    rms_arr = np.nanstd(arr, axis = (1, 2)) #gives an array with rms's for every aperture of every image\n",
    "    idx = np.argsort(rms_arr) \n",
    "    return idx, arr[idx]"
   ]
  },
  {
   "cell_type": "code",
   "execution_count": 15,
   "id": "5cb3db49",
   "metadata": {},
   "outputs": [],
   "source": [
    "def median_image(sorted_arr):\n",
    "    ''' Input an array sorted from best to worst rms. Returns a cube (med_cube) containing images where every ith \n",
    "    image is the median of the first i+1 images in the input array. rms_med_im contains the rms of these images.'''\n",
    "    med_cube = np.zeros([sorted_arr.shape[0]-1, sorted_arr.shape[1], sorted_arr.shape[2]]) #Cube containing all images. \n",
    "    rms_med_im = np.zeros(sorted_arr.shape[0]-1)\n",
    "    \n",
    "    for i in range(2, len(sorted_arr)+1):\n",
    "        print(f'N = {i}')\n",
    "        N_im = sorted_arr[0:i]\n",
    "        med = np.median(N_im, axis = 0)\n",
    "        rms = np.nanstd(med)\n",
    "        rms_med_im[i-2] = rms\n",
    "        med_cube[i-2] = med\n",
    "    \n",
    "    return med_cube, rms_med_im"
   ]
  },
  {
   "cell_type": "markdown",
   "id": "962734e7",
   "metadata": {},
   "source": [
    "# YSES"
   ]
  },
  {
   "cell_type": "code",
   "execution_count": 15,
   "id": "3e08c9b0",
   "metadata": {},
   "outputs": [],
   "source": [
    "yses_data = star_data(sin_yses)\n",
    "yses_clb = np.array([data_reduction(yses_data[i]) for i in range(len(sin_yses))])\n",
    "yses_aper = np.array([mask_aperture(yses_clb[i]) for i in range(len(sin_yses))])"
   ]
  },
  {
   "cell_type": "code",
   "execution_count": 16,
   "id": "61d281a3",
   "metadata": {},
   "outputs": [],
   "source": [
    "idx_yses_sort, yses_sort = arr_sort_rms(yses_aper)"
   ]
  },
  {
   "cell_type": "code",
   "execution_count": 17,
   "id": "f5235942",
   "metadata": {},
   "outputs": [
    {
     "name": "stdout",
     "output_type": "stream",
     "text": [
      "N = 2\n",
      "N = 3\n",
      "N = 4\n",
      "N = 5\n",
      "N = 6\n",
      "N = 7\n",
      "N = 8\n",
      "N = 9\n",
      "N = 10\n",
      "N = 11\n",
      "N = 12\n",
      "N = 13\n",
      "N = 14\n",
      "N = 15\n",
      "N = 16\n",
      "N = 17\n",
      "N = 18\n",
      "N = 19\n",
      "N = 20\n",
      "N = 21\n",
      "N = 22\n",
      "N = 23\n",
      "N = 24\n",
      "N = 25\n",
      "N = 26\n",
      "N = 27\n",
      "N = 28\n",
      "N = 29\n",
      "N = 30\n",
      "N = 31\n",
      "N = 32\n",
      "N = 33\n",
      "N = 34\n",
      "N = 35\n",
      "N = 36\n",
      "N = 37\n",
      "N = 38\n",
      "N = 39\n",
      "N = 40\n",
      "N = 41\n",
      "N = 42\n",
      "N = 43\n",
      "N = 44\n"
     ]
    }
   ],
   "source": [
    "yses_med_cube, yses_rms_med = median_image(yses_sort)"
   ]
  },
  {
   "cell_type": "code",
   "execution_count": 19,
   "id": "70e7cf44",
   "metadata": {},
   "outputs": [
    {
     "data": {
      "image/png": "[encoded data removed]",
      "text/plain": [
       "<Figure size 640x480 with 1 Axes>"
      ]
     },
     "metadata": {},
     "output_type": "display_data"
    }
   ],
   "source": [
    "plt.figure()\n",
    "plt.title('Determining optimal number of images using YSES data')\n",
    "plt.plot(np.arange(1, len(yses_rms_med)+1), yses_rms_med)\n",
    "plt.xlabel('N')\n",
    "plt.ylabel('rms')\n",
    "plt.savefig('YSES_RMS_image.pdf')"
   ]
  },
  {
   "cell_type": "markdown",
   "id": "fa4ee6fa",
   "metadata": {},
   "source": [
    "# WISPIT"
   ]
  },
  {
   "cell_type": "code",
   "execution_count": 20,
   "id": "e3a4ad57",
   "metadata": {},
   "outputs": [],
   "source": [
    "wp_data = star_data(sin_wispit)\n",
    "wp_clb = np.array([data_reduction(wp_data[i]) for i in range(len(sin_wispit))])\n",
    "wp_aper = np.array([mask_aperture(wp_clb[i]) for i in range(len(sin_wispit))])"
   ]
  },
  {
   "cell_type": "code",
   "execution_count": 21,
   "id": "5f09b3e6",
   "metadata": {},
   "outputs": [],
   "source": [
    "idx_wp_sort, wp_sort = arr_sort_rms(wp_aper)"
   ]
  },
  {
   "cell_type": "code",
   "execution_count": 22,
   "id": "8825f281",
   "metadata": {},
   "outputs": [
    {
     "name": "stdout",
     "output_type": "stream",
     "text": [
      "N = 2\n",
      "N = 3\n",
      "N = 4\n",
      "N = 5\n",
      "N = 6\n",
      "N = 7\n",
      "N = 8\n",
      "N = 9\n",
      "N = 10\n",
      "N = 11\n",
      "N = 12\n",
      "N = 13\n",
      "N = 14\n",
      "N = 15\n",
      "N = 16\n",
      "N = 17\n",
      "N = 18\n",
      "N = 19\n",
      "N = 20\n"
     ]
    }
   ],
   "source": [
    "wp_med_cube, wp_rms_med = median_image(wp_sort)"
   ]
  },
  {
   "cell_type": "code",
   "execution_count": 23,
   "id": "38f47ff2",
   "metadata": {},
   "outputs": [
    {
     "data": {
      "image/png": "[encoded data removed]",
      "text/plain": [
       "<Figure size 640x480 with 1 Axes>"
      ]
     },
     "metadata": {},
     "output_type": "display_data"
    }
   ],
   "source": [
    "plt.figure()\n",
    "plt.title('Determining optimal number of images using WISPIT data')\n",
    "plt.plot(np.arange(1, len(wp_rms_med)+1), wp_rms_med)\n",
    "plt.xlabel('N')\n",
    "plt.ylabel('rms')\n",
    "plt.savefig('WISPIT_RMS_image.pdf')"
   ]
  },
  {
   "cell_type": "markdown",
   "id": "0029f63e",
   "metadata": {},
   "source": [
    "# YSES and WISPIT"
   ]
  },
  {
   "cell_type": "code",
   "execution_count": 16,
   "id": "9a8619e3",
   "metadata": {},
   "outputs": [],
   "source": [
    "sin_clb_copy = sin_clb.copy()\n",
    "sin_aper = np.array([mask_aperture(sin_clb_copy[i]) for i in range(len(sin_names))])"
   ]
  },
  {
   "cell_type": "code",
   "execution_count": 17,
   "id": "3ada42ae",
   "metadata": {},
   "outputs": [],
   "source": [
    "idx_sin_sort, sin_sort = arr_sort_rms(sin_aper)"
   ]
  },
  {
   "cell_type": "code",
   "execution_count": 18,
   "id": "3a779045",
   "metadata": {},
   "outputs": [
    {
     "name": "stdout",
     "output_type": "stream",
     "text": [
      "N = 2\n",
      "N = 3\n",
      "N = 4\n",
      "N = 5\n",
      "N = 6\n",
      "N = 7\n",
      "N = 8\n",
      "N = 9\n",
      "N = 10\n",
      "N = 11\n",
      "N = 12\n",
      "N = 13\n",
      "N = 14\n",
      "N = 15\n",
      "N = 16\n",
      "N = 17\n",
      "N = 18\n",
      "N = 19\n",
      "N = 20\n",
      "N = 21\n",
      "N = 22\n",
      "N = 23\n",
      "N = 24\n",
      "N = 25\n",
      "N = 26\n",
      "N = 27\n",
      "N = 28\n",
      "N = 29\n",
      "N = 30\n",
      "N = 31\n",
      "N = 32\n",
      "N = 33\n",
      "N = 34\n",
      "N = 35\n",
      "N = 36\n",
      "N = 37\n",
      "N = 38\n",
      "N = 39\n",
      "N = 40\n",
      "N = 41\n",
      "N = 42\n",
      "N = 43\n",
      "N = 44\n",
      "N = 45\n",
      "N = 46\n",
      "N = 47\n",
      "N = 48\n",
      "N = 49\n",
      "N = 50\n",
      "N = 51\n",
      "N = 52\n",
      "N = 53\n",
      "N = 54\n",
      "N = 55\n",
      "N = 56\n",
      "N = 57\n",
      "N = 58\n",
      "N = 59\n",
      "N = 60\n",
      "N = 61\n",
      "N = 62\n",
      "N = 63\n",
      "N = 64\n"
     ]
    }
   ],
   "source": [
    "sin_med_cube, sin_rms_med = median_image(sin_sort)"
   ]
  },
  {
   "cell_type": "code",
   "execution_count": 19,
   "id": "3879edb7",
   "metadata": {},
   "outputs": [
    {
     "data": {
      "image/png": "[encoded data removed]",
      "text/plain": [
       "<Figure size 640x480 with 1 Axes>"
      ]
     },
     "metadata": {},
     "output_type": "display_data"
    }
   ],
   "source": [
    "plt.figure()\n",
    "plt.title('Determining optimal number of images using YSES and WISPIT data')\n",
    "plt.plot(np.arange(1, len(sin_rms_med)+1), sin_rms_med)\n",
    "plt.xlabel('N')\n",
    "plt.ylabel('rms')\n",
    "plt.savefig('ALL_RMS_image.pdf')"
   ]
  },
  {
   "cell_type": "markdown",
   "id": "4823a589",
   "metadata": {},
   "source": [
    "# 5. Subtract median star from test stars"
   ]
  },
  {
   "cell_type": "code",
   "execution_count": null,
   "id": "e1c4e68d",
   "metadata": {},
   "outputs": [],
   "source": [
    "def subtract_star(im, med_st):\n",
    "    ''' Subtract the median star from the image and images the results'''\n",
    "    im = calibration(im, 100)\n",
    "    dx = im - med_st\n",
    "    return dx"
   ]
  },
  {
   "cell_type": "code",
   "execution_count": null,
   "id": "145b642f",
   "metadata": {},
   "outputs": [],
   "source": [
    "rest = subtract_star(star_data(0, single_stars), med_arr)\n",
    "name, date = star_info(0, single_stars)\n",
    "plt.title(f'{name}, {date}')\n",
    "plt.imshow(rest)\n",
    "plt.colorbar()\n",
    "plt.xlim(400, 624)\n",
    "plt.ylim(400, 624)\n",
    "plt.show()"
   ]
  },
  {
   "cell_type": "code",
   "execution_count": null,
   "id": "5019cd0d",
   "metadata": {
    "scrolled": true
   },
   "outputs": [],
   "source": [
    "for i in range(len(single_stars)):\n",
    "    rest = subtract_star(star_data(i, single_stars), med_arr)\n",
    "    name, date = star_info(i, single_stars)\n",
    "#     plt.title(f'{name}, {date}')\n",
    "#     plt.imshow(rest)\n",
    "#     plt.colorbar()\n",
    "#     plt.xlim(500, 524)\n",
    "#     plt.ylim(500, 524)\n",
    "#     plt.show()\n",
    "    \n",
    "    plt.figure(figsize=(10,5))\n",
    "    plt.subplot(1,2,1)\n",
    "    plt.imshow(rest)\n",
    "    plt.xlim(400, 624)\n",
    "    plt.ylim(400, 624)\n",
    "\n",
    "    plt.subplot(1,2,2)\n",
    "    plt.imshow(rest)\n",
    "    plt.colorbar()\n",
    "    plt.xlim(500, 524)\n",
    "    plt.ylim(500, 524)\n",
    "\n",
    "    plt.suptitle(f'{name}, {date}')\n",
    "    plt.show()"
   ]
  },
  {
   "cell_type": "code",
   "execution_count": null,
   "id": "cb86d742",
   "metadata": {},
   "outputs": [],
   "source": [
    "subtract_star(star_data(path_sin, 1), med_arr)\n",
    "name, date = star_info(path_sin, 1)\n",
    "plt.title(f'{name}, {date}')\n",
    "plt.imshow(rest)\n",
    "plt.colorbar()\n",
    "plt.xlim(500, 524)\n",
    "plt.ylim(500, 524)\n",
    "plt.show()"
   ]
  },
  {
   "cell_type": "markdown",
   "id": "592c8124",
   "metadata": {},
   "source": [
    "# .reg files\n",
    "1. Want to open them\n",
    "2. Want to be able to read them\n",
    "3. Search for key word circle\n",
    "4. Save x and y coordinate\n",
    "    - Are all coordinates equally long? --> if not begin next at ,\n",
    "    - Do not save radius too"
   ]
  },
  {
   "cell_type": "code",
   "execution_count": null,
   "id": "e7b9ee75",
   "metadata": {},
   "outputs": [],
   "source": []
  },
  {
   "cell_type": "code",
   "execution_count": 15,
   "id": "b36bf5ba",
   "metadata": {},
   "outputs": [],
   "source": [
    "def find_x_y_reg(file, loc_circle, sep):\n",
    "    ''' Opens the .reg file and returns the x and y coordinate in the file. loc_circle is the number of the line\n",
    "    where the information on the circle is stored and sep is the thing used for seperating the x and y coord. '''\n",
    "    with open(file, 'rt') as reg:\n",
    "        data_reg = reg.readlines()\n",
    "        data_reg = data_reg[loc_circle]\n",
    "    \n",
    "    first, second = data_reg.find(sep), data_reg.rfind(sep)\n",
    "    return float(data_reg[7:first]), float(data_reg[(first+1):second])"
   ]
  },
  {
   "cell_type": "code",
   "execution_count": 16,
   "id": "aed513f3",
   "metadata": {},
   "outputs": [
    {
     "ename": "NameError",
     "evalue": "name 'star' is not defined",
     "output_type": "error",
     "traceback": [
      "\u001b[0;31m---------------------------------------------------------------------------\u001b[0m",
      "\u001b[0;31mNameError\u001b[0m                                 Traceback (most recent call last)",
      "\u001b[0;32m/tmp/ipykernel_16884/2463778597.py\u001b[0m in \u001b[0;36m<module>\u001b[0;34m\u001b[0m\n\u001b[0;32m----> 1\u001b[0;31m \u001b[0mx\u001b[0m\u001b[0;34m,\u001b[0m \u001b[0my\u001b[0m \u001b[0;34m=\u001b[0m \u001b[0mfind_x_y_reg\u001b[0m\u001b[0;34m(\u001b[0m\u001b[0;34mf'data/{star}/{date}/{star}_{date}.reg'\u001b[0m\u001b[0;34m,\u001b[0m \u001b[0;36m3\u001b[0m\u001b[0;34m,\u001b[0m \u001b[0;34m','\u001b[0m\u001b[0;34m)\u001b[0m\u001b[0;34m\u001b[0m\u001b[0;34m\u001b[0m\u001b[0m\n\u001b[0m",
      "\u001b[0;31mNameError\u001b[0m: name 'star' is not defined"
     ]
    }
   ],
   "source": [
    "x, y = find_x_y_reg(f'data/{star}/{date}/{star}_{date}.reg', 3, ',')"
   ]
  },
  {
   "cell_type": "code",
   "execution_count": null,
   "id": "aa7a7167",
   "metadata": {},
   "outputs": [],
   "source": [
    "x"
   ]
  },
  {
   "cell_type": "code",
   "execution_count": null,
   "id": "87573e6a",
   "metadata": {},
   "outputs": [],
   "source": []
  }
 ],
 "metadata": {
  "kernelspec": {
   "display_name": "Python 3 (ipykernel)",
   "language": "python",
   "name": "python3"
  },
  "language_info": {
   "codemirror_mode": {
    "name": "ipython",
    "version": 3
   },
   "file_extension": ".py",
   "mimetype": "text/x-python",
   "name": "python",
   "nbconvert_exporter": "python",
   "pygments_lexer": "ipython3",
   "version": "3.10.9"
  }
 },
 "nbformat": 4,
 "nbformat_minor": 5
}
