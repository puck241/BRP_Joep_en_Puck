{
 "cells": [
  {
   "cell_type": "markdown",
   "id": "924a73a6",
   "metadata": {},
   "source": [
    "# 1. Set-up\n",
    "- Import libraries\n",
    "- Define directories\n",
    "- Split arrays into single, binary and weird"
   ]
  },
  {
   "cell_type": "code",
   "execution_count": 1,
   "id": "b5a8a020",
   "metadata": {},
   "outputs": [],
   "source": [
    "import numpy as np\n",
    "import matplotlib.pyplot as plt\n",
    "import astropy.io.fits as f\n",
    "from os import listdir"
   ]
  },
  {
   "cell_type": "code",
   "execution_count": 2,
   "id": "01daa406",
   "metadata": {},
   "outputs": [],
   "source": [
    "#path to data\n",
    "path = '/home/puck/Documents/BRP/data' #puck\n",
    "#path = 'data' #joep"
   ]
  },
  {
   "cell_type": "code",
   "execution_count": 64,
   "id": "dbf47a33",
   "metadata": {},
   "outputs": [],
   "source": [
    "#list of star names\n",
    "all_stars = np.array(sorted(listdir(path)))\n",
    "\n",
    "weird_stars = np.array(['2MASSJ11320835-5803199', '2MASSJ12041439-6418516', '2MASSJ12123577-5520273', \n",
    "                        '2MASSJ12192161-6454101', '2MASSJ12205449-6457242', '2MASSJ12472196-6808397',\n",
    "                        '2MASSJ12582559-7028490', '2MASSJ13032904-4723160'])\n",
    "\n",
    "#weird_stars = np.array(['2MASSJ13032904-4723160'])\n",
    "binary_stars_og = np.array(['2MASSJ11555771-5254008', '2MASSJ12560830-6926539', '2MASSJ13015435-4249422',\n",
    "                            '2MASSJ13130714-4537438', 'CD-43_3604', 'CVSO_751', 'Gaia_EDR3_3008386787098934144',\n",
    "                            'HD_283629', 'HD_284266', 'HD_286179', 'UCAC4_454-011718', 'UCAC4_475-014428', \n",
    "                            'UCAC4_495-030196','UCAC4_501-011878'])\n",
    "\n",
    "binary_stars_close = np.array(['2MASSJ10065573-6352086','2MASSJ11272881-3952572','2MASSJ11445217-6438548',\n",
    "                               '2MASSJ11452016-5749094','2MASSJ12163007-6711477','2MASSJ12185802-5737191',\n",
    "                               '2MASSJ12210808-5212226','2MASSJ12234012-5616325','2MASSJ13055087-5304181',\n",
    "                               '2MASSJ13103245-4817036','2MASSJ13174687-4456534','2MASSJ13335481-6536414',\n",
    "                               'CoRoT_102718810','Gaia_EDR3_3014970387847972096','IRAS_08131-4432',\n",
    "                               'RX_J2302.6+0034','UCAC4_127-038351','UCAC4_134-015937','UCAC4_406-011818',\n",
    "                               'UCAC4_461-018326','UCAC4_482-118442','UCAC4_496-013657','UCAC4_519-042115',\n",
    "                               'V1319_TAU'])\n",
    "\n",
    "binary_stars = np.append(binary_stars_og,binary_stars_close)"
   ]
  },
  {
   "cell_type": "code",
   "execution_count": 65,
   "id": "9078e698",
   "metadata": {},
   "outputs": [],
   "source": [
    "def mask_arr_stars(arr, star_names):\n",
    "    mask = np.ones_like(star_names, dtype = bool)\n",
    "    for i in arr:\n",
    "        idx = np.where(star_names == i)\n",
    "        mask[idx] = False\n",
    "    return mask"
   ]
  },
  {
   "cell_type": "code",
   "execution_count": 66,
   "id": "d7894513",
   "metadata": {},
   "outputs": [],
   "source": [
    "single_stars_names = all_stars[(mask_arr_stars(binary_stars, all_stars)*mask_arr_stars(weird_stars, all_stars))]"
   ]
  },
  {
   "cell_type": "code",
   "execution_count": 67,
   "id": "d009b885",
   "metadata": {},
   "outputs": [
    {
     "name": "stdout",
     "output_type": "stream",
     "text": [
      "Single stars: 64 \n",
      "Binary stars: 38 \n",
      "Weird stars: 8\n"
     ]
    }
   ],
   "source": [
    "print('Single stars:',len(single_stars_names),'\\nBinary stars:',len(binary_stars),'\\nWeird stars:',len(weird_stars) )"
   ]
  },
  {
   "cell_type": "code",
   "execution_count": 68,
   "id": "e716fa1b",
   "metadata": {},
   "outputs": [],
   "source": [
    "#Show which stars have more than 1 file aka for which star we have more than 1 observation\n",
    "mask_dates = np.array([len(listdir(f'{path}/{all_stars[i]}'))!= 1 for i in range(len(all_stars))])\n",
    "more_dates = all_stars[mask_dates]\n",
    "#print(more_dates)"
   ]
  },
  {
   "cell_type": "markdown",
   "id": "077144cf",
   "metadata": {},
   "source": [
    "# 2. Retrieve the data \n",
    "- Write a function which retrieves the name of the star and the date of observation\n",
    "- Write a function to retrieve the data of one star\n",
    "- Write a function which combines all this data into one array"
   ]
  },
  {
   "cell_type": "code",
   "execution_count": 69,
   "id": "4c7d6fad",
   "metadata": {},
   "outputs": [],
   "source": [
    "def star_info(idx, star_names):\n",
    "    ''' Returns the name of the star and the date of the observation at index idx as a tuple. '''\n",
    "    return star_names[idx], listdir(f'{path}/{star_names[idx]}')[0]"
   ]
  },
  {
   "cell_type": "code",
   "execution_count": 70,
   "id": "9404bc86",
   "metadata": {},
   "outputs": [],
   "source": [
    "def star_data(idx, star_names):\n",
    "    ''' Returns the flux data of the star at the corresponding data at index idx as a 2d numpy array. '''\n",
    "    name, date = star_info(idx, star_names)\n",
    "    with f.open(f'{path}/{name}/{date}/B_H/calibration/flux/{name}_{date}_cube_flux_processed_right.fits') as hdul:\n",
    "        data = hdul[0].data\n",
    "    return data[0]"
   ]
  },
  {
   "cell_type": "code",
   "execution_count": 71,
   "id": "2960067a",
   "metadata": {},
   "outputs": [],
   "source": [
    "def star_data_arr(star_names):\n",
    "    ''' Returns an array containing all the data if all stars in star_names. '''\n",
    "    arr = np.empty((len(star_names), 1024, 1024))\n",
    "    for i in range(len(star_names)):\n",
    "        arr[i] = star_data(i, star_names)\n",
    "    return arr"
   ]
  },
  {
   "cell_type": "code",
   "execution_count": 72,
   "id": "5e9c510e",
   "metadata": {},
   "outputs": [],
   "source": [
    "single_stars = star_data_arr(single_stars_names)"
   ]
  },
  {
   "cell_type": "markdown",
   "id": "d2a394da",
   "metadata": {},
   "source": [
    "# 3. Cutting out central pixels\n",
    "- Circle of radius 100 pixels around center\n",
    "- 200 x 200 pixelsaround center"
   ]
  },
  {
   "cell_type": "code",
   "execution_count": 73,
   "id": "21148a43",
   "metadata": {},
   "outputs": [],
   "source": [
    "def mask_but_center(arr):\n",
    "    ''' Masks everything but the area with radius r in a circle around the center. '''\n",
    "    x = y = np.linspace(-(len(arr))/2, (len(arr))/2, len(arr))\n",
    "    x_grid, y_grid = np.meshgrid(x, y)\n",
    "    r_grid = np.sqrt(x_grid**2 + y_grid**2)\n",
    "    arr[r_grid > 100] = None \n",
    "    return arr\n",
    "\n",
    "def normalize(arr):\n",
    "    ''' Normalizes the array '''\n",
    "    arr = np.array(arr,dtype=np.float64)\n",
    "    return arr/np.nanmax(arr)\n",
    "\n",
    "def calibration(arr):\n",
    "    ''' Masks and then normalizes the array. '''\n",
    "    mask_arr = mask_but_center(arr)\n",
    "    norm_arr = normalize(mask_arr)\n",
    "    return norm_arr"
   ]
  },
  {
   "cell_type": "code",
   "execution_count": 74,
   "id": "c2884dbf",
   "metadata": {},
   "outputs": [],
   "source": [
    "#Array with all the single stars but then masked and normalized\n",
    "single_calib = np.array([calibration(star_data(i, single_stars_names)) for i in range(len(single_stars_names))])"
   ]
  },
  {
   "cell_type": "code",
   "execution_count": 75,
   "id": "a3e5477b",
   "metadata": {},
   "outputs": [],
   "source": [
    "def print_stars(idx, star_names):\n",
    "    ''' Print the masked and normalised flux image of the star at index idx. '''\n",
    "    name, date = star_info(idx, star_names)\n",
    "    star = calibration(star_data(idx, star_names))\n",
    "    \n",
    "    plt.subplot(1, 2, 1)\n",
    "    plt.imshow(star)\n",
    "    plt.gca().invert_yaxis()\n",
    "    plt.xlim(400, 624)\n",
    "    plt.ylim(400, 624)\n",
    "\n",
    "    plt.subplot(1, 2, 2)\n",
    "    plt.imshow(star)\n",
    "    plt.gca().invert_yaxis()\n",
    "    plt.xlim(500, 524)\n",
    "    plt.ylim(500, 524)\n",
    "\n",
    "    plt.suptitle(f'{name}, {date}', y = 0.8)\n",
    "    plt.show()"
   ]
  },
  {
   "cell_type": "markdown",
   "id": "5b5e76ae",
   "metadata": {},
   "source": [
    "# 3. Finding the perfect median star\n",
    "- Cut out a little square far away from the star\n",
    "- Calculate the RMS of each little square to determine the noise\n",
    "- Combine all these RMS in an array and sort them from best to worst\n",
    "- Write a function that calculates the median of an array of stars\n",
    "- Write a function "
   ]
  },
  {
   "cell_type": "code",
   "execution_count": 81,
   "id": "c7f619ec",
   "metadata": {},
   "outputs": [
    {
     "data": {
      "image/png": "[encoded data removed]",
      "text/plain": [
       "<Figure size 640x480 with 1 Axes>"
      ]
     },
     "metadata": {},
     "output_type": "display_data"
    }
   ],
   "source": [
    "rms = np.std(single_calib[:, 550:570, 450:470], axis = (1, 2)) #gives the rms for every patch in every image\n",
    "rms_idx = np.argsort(rms) #makes an array with the best index first and the worst index last\n",
    "rms_sort = rms[rms_idx] #sorts the rms array from best to worst\n",
    "\n",
    "\n",
    "plt.figure()\n",
    "plt.title('RMS plotted vs the index of the image in the array sorted from best to worst RMS')\n",
    "plt.scatter(np.arange(0, len(rms_sort)), rms_sort)\n",
    "plt.xlabel('x')\n",
    "plt.ylabel('rms')\n",
    "plt.show()"
   ]
  },
  {
   "cell_type": "code",
   "execution_count": 80,
   "id": "b05f514b",
   "metadata": {},
   "outputs": [
    {
     "data": {
      "text/plain": [
       "\"rms = np.std(single_stars[:, 550:570, 450:470], axis = (1, 2)) #gives the rms for every patch in every image\\nrms_idx = np.argsort(rms) #makes an array with the best index first and the worst index last\\nrms_sort = rms[rms_idx] #sorts the rms array from best to worst\\n\\n\\nplt.figure()\\nplt.title('RMS plotted vs the index of the image in the array sorted from best to worst RMS')\\nplt.scatter(np.arange(0, len(rms_sort)), rms_sort)\\nplt.xlabel('x')\\nplt.ylabel('rms')\\nplt.show()\""
      ]
     },
     "execution_count": 80,
     "metadata": {},
     "output_type": "execute_result"
    }
   ],
   "source": [
    "#Show that if not normalised the curve looks like this\n",
    "'''rms = np.std(single_stars[:, 550:570, 450:470], axis = (1, 2)) #gives the rms for every patch in every image\n",
    "rms_idx = np.argsort(rms) #makes an array with the best index first and the worst index last\n",
    "rms_sort = rms[rms_idx] #sorts the rms array from best to worst\n",
    "\n",
    "\n",
    "plt.figure()\n",
    "plt.title('RMS plotted vs the index of the image in the array sorted from best to worst RMS')\n",
    "plt.scatter(np.arange(0, len(rms_sort)), rms_sort)\n",
    "plt.xlabel('x')\n",
    "plt.ylabel('rms')\n",
    "plt.show()'''"
   ]
  },
  {
   "cell_type": "code",
   "execution_count": 77,
   "id": "b6a623b4",
   "metadata": {},
   "outputs": [],
   "source": [
    "single_stars_sort = single_calib[rms_idx] #sorts the single star array from best rms to worst rms\n",
    "single_stars_names_sort = single_stars_names[rms_idx] #if we ever need to know which star is which"
   ]
  },
  {
   "cell_type": "code",
   "execution_count": 78,
   "id": "40b588d4",
   "metadata": {},
   "outputs": [
    {
     "name": "stdout",
     "output_type": "stream",
     "text": [
      "0.0007432300086560858\n",
      "0.0010308810664901317\n"
     ]
    }
   ],
   "source": [
    "#Here I calculate the rms of the median of the two images and then use the theoretical method\n",
    "med = np.median(single_stars_sort[rms_idx[0:2]], axis = 0)\n",
    "print(np.std(med[550:570, 450:470])) #rms of the median image of the two best images\n",
    "\n",
    "ding = single_stars_sort[rms_idx[0:1],:,:]\n",
    "ding2 = single_stars_sort[rms_idx[0:2],:,:]\n",
    "\n",
    "std1 = np.std(ding[0,550:570, 450:470])\n",
    "std2 = np.std(ding2[0, 550:570, 450:470])\n",
    "\n",
    "print(np.sqrt(std1**2 + std2**2)/np.sqrt(2)) #combined theoretical rms of the two best images"
   ]
  },
  {
   "cell_type": "code",
   "execution_count": 116,
   "id": "5608c6d4",
   "metadata": {},
   "outputs": [],
   "source": [
    "#Make an array in which every ith entry is a median of the images from 0 to i in the array sorted from best to\n",
    "#worst rms\n",
    "\n",
    "rms_med_im = np.empty(len(single_stars_sort))\n",
    "for i in range(len(single_stars_sort)):\n",
    "    idx_arr = rms_idx[0:i+1]\n",
    "    med = np.median(single_stars_sort[idx_arr], axis = 0)\n",
    "    rms_med_im[i] = np.std(med[550:570, 450:470])"
   ]
  },
  {
   "cell_type": "code",
   "execution_count": 117,
   "id": "ab8118ba",
   "metadata": {},
   "outputs": [
    {
     "name": "stdout",
     "output_type": "stream",
     "text": [
      "(64,)\n"
     ]
    }
   ],
   "source": [
    "print(rms_med_im.shape)"
   ]
  },
  {
   "cell_type": "code",
   "execution_count": 121,
   "id": "9c029049",
   "metadata": {},
   "outputs": [
    {
     "data": {
      "image/png": "[encoded data removed]",
      "text/plain": [
       "<Figure size 640x480 with 1 Axes>"
      ]
     },
     "metadata": {},
     "output_type": "display_data"
    }
   ],
   "source": [
    "N_keep = np.arange(1, len(rms_arr)+1)\n",
    "plt.figure()\n",
    "plt.plot(N_keep, rms_arr/np.sqrt(N_keep))\n",
    "#plt.plot(N_keep, 1/np.sqrt(N_keep))\n",
    "plt.show()"
   ]
  },
  {
   "cell_type": "code",
   "execution_count": 32,
   "id": "387cc3da",
   "metadata": {},
   "outputs": [],
   "source": [
    "rms_arr = np.empty_like(rms_s_s, dtype = float)\n",
    "for i in range(len(rms_s_s)):\n",
    "    idx_arr = rms_s_idx[0:i+1]\n",
    "    med = median_star_arr(single_stars[idx_arr])\n",
    "    rms_arr[i] = rms_patch(med)\n",
    "    #plt.figure()\n",
    "    #plt.title(f'Median with idx [0:{i+1}]')\n",
    "    #plt.imshow(med)\n",
    "    #plt.gca().invert_yaxis()\n",
    "    #plt.xlim(500, 524)\n",
    "    #plt.ylim(500, 524)\n",
    "    #plt.colorbar()\n",
    "    #plt.show()"
   ]
  },
  {
   "cell_type": "code",
   "execution_count": 33,
   "id": "2eca8ee5",
   "metadata": {},
   "outputs": [
    {
     "name": "stderr",
     "output_type": "stream",
     "text": [
      "/tmp/ipykernel_18340/2974407388.py:2: RuntimeWarning: divide by zero encountered in divide\n",
      "  plt.plot(N_keep, rms_arr/np.sqrt(N_keep))\n"
     ]
    },
    {
     "data": {
      "image/png": "[encoded data removed]",
      "text/plain": [
       "<Figure size 640x480 with 1 Axes>"
      ]
     },
     "metadata": {},
     "output_type": "display_data"
    }
   ],
   "source": [
    "plt.figure()\n",
    "plt.plot(N_keep, rms_arr/np.sqrt(N_keep))\n",
    "plt.show()"
   ]
  },
  {
   "cell_type": "markdown",
   "id": "4823a589",
   "metadata": {},
   "source": [
    "# 5. Subtract median star from test stars"
   ]
  },
  {
   "cell_type": "code",
   "execution_count": null,
   "id": "e1c4e68d",
   "metadata": {},
   "outputs": [],
   "source": [
    "def subtract_star(im, med_st):\n",
    "    ''' Subtract the median star from the image and images the results'''\n",
    "    im = calibration(im, 100)\n",
    "    dx = im - med_st\n",
    "    return dx"
   ]
  },
  {
   "cell_type": "code",
   "execution_count": null,
   "id": "145b642f",
   "metadata": {},
   "outputs": [],
   "source": [
    "rest = subtract_star(star_data(0, single_stars), med_arr)\n",
    "name, date = star_info(0, single_stars)\n",
    "plt.title(f'{name}, {date}')\n",
    "plt.imshow(rest)\n",
    "plt.colorbar()\n",
    "plt.xlim(400, 624)\n",
    "plt.ylim(400, 624)\n",
    "plt.show()"
   ]
  },
  {
   "cell_type": "code",
   "execution_count": null,
   "id": "5019cd0d",
   "metadata": {
    "scrolled": true
   },
   "outputs": [],
   "source": [
    "for i in range(len(single_stars)):\n",
    "    rest = subtract_star(star_data(i, single_stars), med_arr)\n",
    "    name, date = star_info(i, single_stars)\n",
    "#     plt.title(f'{name}, {date}')\n",
    "#     plt.imshow(rest)\n",
    "#     plt.colorbar()\n",
    "#     plt.xlim(500, 524)\n",
    "#     plt.ylim(500, 524)\n",
    "#     plt.show()\n",
    "    \n",
    "    plt.figure(figsize=(10,5))\n",
    "    plt.subplot(1,2,1)\n",
    "    plt.imshow(rest)\n",
    "    plt.xlim(400, 624)\n",
    "    plt.ylim(400, 624)\n",
    "\n",
    "    plt.subplot(1,2,2)\n",
    "    plt.imshow(rest)\n",
    "    plt.colorbar()\n",
    "    plt.xlim(500, 524)\n",
    "    plt.ylim(500, 524)\n",
    "\n",
    "    plt.suptitle(f'{name}, {date}')\n",
    "    plt.show()"
   ]
  },
  {
   "cell_type": "code",
   "execution_count": null,
   "id": "cb86d742",
   "metadata": {},
   "outputs": [],
   "source": [
    "subtract_star(star_data(path_sin, 1), med_arr)\n",
    "name, date = star_info(path_sin, 1)\n",
    "plt.title(f'{name}, {date}')\n",
    "plt.imshow(rest)\n",
    "plt.colorbar()\n",
    "plt.xlim(500, 524)\n",
    "plt.ylim(500, 524)\n",
    "plt.show()"
   ]
  },
  {
   "cell_type": "markdown",
   "id": "592c8124",
   "metadata": {},
   "source": [
    "# .reg files\n",
    "1. Want to open them\n",
    "2. Want to be able to read them\n",
    "3. Search for key word circle\n",
    "4. Save x and y coordinate\n",
    "    - Are all coordinates equally long? --> if not begin next at ,\n",
    "    - Do not save radius too"
   ]
  },
  {
   "cell_type": "code",
   "execution_count": null,
   "id": "e7b9ee75",
   "metadata": {},
   "outputs": [],
   "source": []
  },
  {
   "cell_type": "code",
   "execution_count": null,
   "id": "b36bf5ba",
   "metadata": {},
   "outputs": [],
   "source": [
    "def find_x_y_reg(file, loc_circle, sep):\n",
    "    ''' Opens the .reg file and returns the x and y coordinate in the file. loc_circle is the number of the line\n",
    "    where the information on the circle is stored and sep is the thing used for seperating the x and y coord. '''\n",
    "    with open(file, 'rt') as reg:\n",
    "        data_reg = reg.readlines()\n",
    "        data_reg = data_reg[loc_circle]\n",
    "    \n",
    "    first, second = data_reg.find(sep), data_reg.rfind(sep)\n",
    "    return float(data_reg[7:first]), float(data_reg[(first+1):second])"
   ]
  },
  {
   "cell_type": "code",
   "execution_count": null,
   "id": "aed513f3",
   "metadata": {},
   "outputs": [],
   "source": [
    "x, y = find_x_y_reg(f'data/{star}/{date}/{star}_{date}.reg', 3, ',')"
   ]
  },
  {
   "cell_type": "code",
   "execution_count": null,
   "id": "aa7a7167",
   "metadata": {},
   "outputs": [],
   "source": [
    "x"
   ]
  },
  {
   "cell_type": "code",
   "execution_count": null,
   "id": "87573e6a",
   "metadata": {},
   "outputs": [],
   "source": []
  }
 ],
 "metadata": {
  "kernelspec": {
   "display_name": "Python 3 (ipykernel)",
   "language": "python",
   "name": "python3"
  },
  "language_info": {
   "codemirror_mode": {
    "name": "ipython",
    "version": 3
   },
   "file_extension": ".py",
   "mimetype": "text/x-python",
   "name": "python",
   "nbconvert_exporter": "python",
   "pygments_lexer": "ipython3",
   "version": "3.10.9"
  }
 },
 "nbformat": 4,
 "nbformat_minor": 5
}
