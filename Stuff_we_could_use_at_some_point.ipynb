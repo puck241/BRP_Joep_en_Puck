{
 "cells": [
  {
   "cell_type": "code",
   "execution_count": null,
   "id": "9e02b7b9",
   "metadata": {},
   "outputs": [],
   "source": [
    "#Prints the amount of stars in every category\n",
    "print('Single stars:',len(sin_names),'\\nBinary stars:',len(bin_names),'\\nWeird stars:',len(weird_names))"
   ]
  },
  {
   "cell_type": "code",
   "execution_count": null,
   "id": "b94cace5",
   "metadata": {},
   "outputs": [],
   "source": [
    "#Prints the stars for which we have more than 1 epoch.\n",
    "mask_dates = np.array([len(listdir(f'{path}/{all_stars[i]}'))!= 1 for i in range(len(all_stars))])\n",
    "more_dates = all_stars[mask_dates]\n",
    "print(more_dates)"
   ]
  },
  {
   "cell_type": "code",
   "execution_count": null,
   "id": "fe43448f",
   "metadata": {},
   "outputs": [],
   "source": [
    "def print_stars(idx, star_names):\n",
    "    ''' Print the masked and normalised flux image of the star at index idx. '''\n",
    "    name, date = star_info(idx, star_names)\n",
    "    star = calibration(star_data(idx, star_names))\n",
    "    \n",
    "    plt.subplot(1, 2, 1)\n",
    "    plt.imshow(star)\n",
    "    plt.gca().invert_yaxis()\n",
    "    plt.xlim(400, 624)\n",
    "    plt.ylim(400, 624)\n",
    "\n",
    "    plt.subplot(1, 2, 2)\n",
    "    plt.imshow(star)\n",
    "    plt.gca().invert_yaxis()\n",
    "    plt.xlim(500, 524)\n",
    "    plt.ylim(500, 524)\n",
    "\n",
    "    plt.suptitle(f'{name}, {date}', y = 0.8)\n",
    "    plt.show()"
   ]
  },
  {
   "cell_type": "code",
   "execution_count": null,
   "id": "61083479",
   "metadata": {},
   "outputs": [],
   "source": [
    "#Plots the rms of the images from best to worst. \n",
    "plt.figure()\n",
    "plt.title('RMS plotted vs the index of the image in the array sorted from best to worst RMS')\n",
    "plt.scatter(np.arange(0, len(sin_rms_sort)), sin_rms_sort)\n",
    "plt.xlabel('x')\n",
    "plt.ylabel('rms')\n",
    "plt.show()"
   ]
  },
  {
   "cell_type": "code",
   "execution_count": 1,
   "id": "a9f75857",
   "metadata": {},
   "outputs": [
    {
     "ename": "NameError",
     "evalue": "name 'sin_names' is not defined",
     "output_type": "error",
     "traceback": [
      "\u001b[0;31m---------------------------------------------------------------------------\u001b[0m",
      "\u001b[0;31mNameError\u001b[0m                                 Traceback (most recent call last)",
      "\u001b[0;32m/tmp/ipykernel_6353/418302549.py\u001b[0m in \u001b[0;36m<module>\u001b[0;34m\u001b[0m\n\u001b[1;32m      1\u001b[0m \u001b[0;31m#If we ever need the names of the sorted array\u001b[0m\u001b[0;34m\u001b[0m\u001b[0;34m\u001b[0m\u001b[0m\n\u001b[0;32m----> 2\u001b[0;31m \u001b[0msin_names\u001b[0m\u001b[0;34m[\u001b[0m\u001b[0mrms_idx\u001b[0m\u001b[0;34m]\u001b[0m\u001b[0;34m\u001b[0m\u001b[0;34m\u001b[0m\u001b[0m\n\u001b[0m",
      "\u001b[0;31mNameError\u001b[0m: name 'sin_names' is not defined"
     ]
    }
   ],
   "source": [
    "#If we ever need the names of the sorted array\n",
    "sin_names[rms_idx]"
   ]
  },
  {
   "cell_type": "code",
   "execution_count": 1,
   "id": "df998455",
   "metadata": {},
   "outputs": [
    {
     "ename": "NameError",
     "evalue": "name 'all_stars' is not defined",
     "output_type": "error",
     "traceback": [
      "\u001b[0;31m---------------------------------------------------------------------------\u001b[0m",
      "\u001b[0;31mNameError\u001b[0m                                 Traceback (most recent call last)",
      "\u001b[0;32m/tmp/ipykernel_17489/2959601193.py\u001b[0m in \u001b[0;36m<module>\u001b[0;34m\u001b[0m\n\u001b[1;32m      8\u001b[0m \u001b[0;34m\u001b[0m\u001b[0m\n\u001b[1;32m      9\u001b[0m \u001b[0;31m#Array with the names of single stars\u001b[0m\u001b[0;34m\u001b[0m\u001b[0;34m\u001b[0m\u001b[0m\n\u001b[0;32m---> 10\u001b[0;31m \u001b[0msin_names\u001b[0m \u001b[0;34m=\u001b[0m \u001b[0mall_stars\u001b[0m\u001b[0;34m[\u001b[0m\u001b[0;34m(\u001b[0m\u001b[0mmask_stars\u001b[0m\u001b[0;34m(\u001b[0m\u001b[0mbin_names\u001b[0m\u001b[0;34m,\u001b[0m \u001b[0mall_stars\u001b[0m\u001b[0;34m)\u001b[0m\u001b[0;34m*\u001b[0m\u001b[0mmask_stars\u001b[0m\u001b[0;34m(\u001b[0m\u001b[0mweird_names\u001b[0m\u001b[0;34m,\u001b[0m \u001b[0mall_stars\u001b[0m\u001b[0;34m)\u001b[0m\u001b[0;34m)\u001b[0m\u001b[0;34m]\u001b[0m\u001b[0;34m\u001b[0m\u001b[0;34m\u001b[0m\u001b[0m\n\u001b[0m",
      "\u001b[0;31mNameError\u001b[0m: name 'all_stars' is not defined"
     ]
    }
   ],
   "source": [
    "def mask_stars(arr, star_list):\n",
    "    ''' Makes a mask the size of star_list with False where the entry of star_names matches arr. '''\n",
    "    mask = np.ones_like(star_list, dtype = bool)\n",
    "    for i in arr:\n",
    "        idx = np.where(star_list == i)\n",
    "        mask[idx] = False\n",
    "    return mask\n",
    "\n",
    "#Array with the names of single stars\n",
    "sin_names = all_stars[(mask_stars(bin_names, all_stars)*mask_stars(weird_names, all_stars))]"
   ]
  },
  {
   "cell_type": "code",
   "execution_count": null,
   "id": "5cf60dcd",
   "metadata": {},
   "outputs": [],
   "source": []
  }
 ],
 "metadata": {
  "kernelspec": {
   "display_name": "Python 3 (ipykernel)",
   "language": "python",
   "name": "python3"
  },
  "language_info": {
   "codemirror_mode": {
    "name": "ipython",
    "version": 3
   },
   "file_extension": ".py",
   "mimetype": "text/x-python",
   "name": "python",
   "nbconvert_exporter": "python",
   "pygments_lexer": "ipython3",
   "version": "3.10.9"
  }
 },
 "nbformat": 4,
 "nbformat_minor": 5
}
