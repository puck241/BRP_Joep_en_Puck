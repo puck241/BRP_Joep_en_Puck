{
 "cells": [
  {
   "cell_type": "code",
   "execution_count": null,
   "id": "9e02b7b9",
   "metadata": {},
   "outputs": [],
   "source": [
    "#Prints the amount of stars in every category\n",
    "print('Single stars:',len(sin_names),'\\nBinary stars:',len(bin_names),'\\nWeird stars:',len(weird_names))"
   ]
  },
  {
   "cell_type": "code",
   "execution_count": null,
   "id": "b94cace5",
   "metadata": {},
   "outputs": [],
   "source": [
    "#Prints the stars for which we have more than 1 epoch.\n",
    "mask_dates = np.array([len(listdir(f'{path}/{all_stars[i]}'))!= 1 for i in range(len(all_stars))])\n",
    "more_dates = all_stars[mask_dates]\n",
    "print(more_dates)"
   ]
  },
  {
   "cell_type": "code",
   "execution_count": null,
   "id": "fe43448f",
   "metadata": {},
   "outputs": [],
   "source": [
    "def print_stars(idx, star_names):\n",
    "    ''' Print the masked and normalised flux image of the star at index idx. '''\n",
    "    name, date = star_info(idx, star_names)\n",
    "    star = calibration(star_data(idx, star_names))\n",
    "    \n",
    "    plt.subplot(1, 2, 1)\n",
    "    plt.imshow(star)\n",
    "    plt.gca().invert_yaxis()\n",
    "    plt.xlim(400, 624)\n",
    "    plt.ylim(400, 624)\n",
    "\n",
    "    plt.subplot(1, 2, 2)\n",
    "    plt.imshow(star)\n",
    "    plt.gca().invert_yaxis()\n",
    "    plt.xlim(500, 524)\n",
    "    plt.ylim(500, 524)\n",
    "\n",
    "    plt.suptitle(f'{name}, {date}', y = 0.8)\n",
    "    plt.show()"
   ]
  }
 ],
 "metadata": {
  "kernelspec": {
   "display_name": "Python 3 (ipykernel)",
   "language": "python",
   "name": "python3"
  },
  "language_info": {
   "codemirror_mode": {
    "name": "ipython",
    "version": 3
   },
   "file_extension": ".py",
   "mimetype": "text/x-python",
   "name": "python",
   "nbconvert_exporter": "python",
   "pygments_lexer": "ipython3",
   "version": "3.10.9"
  }
 },
 "nbformat": 4,
 "nbformat_minor": 5
}
