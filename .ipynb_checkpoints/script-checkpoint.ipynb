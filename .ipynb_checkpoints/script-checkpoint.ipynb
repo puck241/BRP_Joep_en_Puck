{
 "cells": [
  {
   "cell_type": "markdown",
   "id": "924a73a6",
   "metadata": {},
   "source": [
    "# 1. Set-up\n",
    "- Import libraries\n",
    "- Define directories\n",
    "- Split arrays into single, binary and weird"
   ]
  },
  {
   "cell_type": "code",
   "execution_count": 2,
   "id": "b5a8a020",
   "metadata": {},
   "outputs": [],
   "source": [
    "import numpy as np\n",
    "import matplotlib.pyplot as plt\n",
    "import astropy.io.fits as f\n",
    "from os import listdir"
   ]
  },
  {
   "cell_type": "code",
   "execution_count": 3,
   "id": "01daa406",
   "metadata": {},
   "outputs": [],
   "source": [
    "path = '/home/puck/Documents/BRP/data' #puck\n",
    "#path = 'data' #joep"
   ]
  },
  {
   "cell_type": "code",
   "execution_count": 4,
   "id": "7f5ae292",
   "metadata": {},
   "outputs": [],
   "source": [
    "#The images containing weird artifacts that make them useless\n",
    "weird_names = np.array(['2MASSJ11320835-5803199', '2MASSJ12041439-6418516', \n",
    "                        '2MASSJ12123577-5520273', '2MASSJ12192161-6454101', \n",
    "                        '2MASSJ12205449-6457242', '2MASSJ12472196-6808397',\n",
    "                        '2MASSJ12582559-7028490', '2MASSJ13032904-4723160'])\n",
    "\n",
    "#2MASSJ13032904-4723160 is star without flux image"
   ]
  },
  {
   "cell_type": "code",
   "execution_count": 5,
   "id": "dbf47a33",
   "metadata": {},
   "outputs": [],
   "source": [
    "#The binaries we found in our initial search\n",
    "bin1 = np.array(['2MASSJ11555771-5254008', '2MASSJ12560830-6926539', \n",
    "                 '2MASSJ13015435-4249422', '2MASSJ13130714-4537438', \n",
    "                 'CD-43_3604', 'CVSO_751', 'Gaia_EDR3_3008386787098934144',\n",
    "                 'HD_283629', 'HD_284266', 'HD_286179', 'UCAC4_454-011718', \n",
    "                 'UCAC4_475-014428', 'UCAC4_495-030196','UCAC4_501-011878'])\n",
    "\n",
    "#The binaries we found in our second searcg\n",
    "bin2 = np.array(['2MASSJ10065573-6352086','2MASSJ11272881-3952572',\n",
    "                 '2MASSJ11445217-6438548','2MASSJ11452016-5749094',\n",
    "                 '2MASSJ12163007-6711477','2MASSJ12185802-5737191',\n",
    "                 '2MASSJ12210808-5212226','2MASSJ12234012-5616325',\n",
    "                 '2MASSJ13055087-5304181','2MASSJ13103245-4817036',\n",
    "                 '2MASSJ13174687-4456534','2MASSJ13335481-6536414',\n",
    "                 'CoRoT_102718810','Gaia_EDR3_3014970387847972096',\n",
    "                 'IRAS_08131-4432','RX_J2302.6+0034','UCAC4_127-038351',\n",
    "                 'UCAC4_134-015937','UCAC4_406-011818','UCAC4_461-018326',\n",
    "                 'UCAC4_482-118442','UCAC4_496-013657','UCAC4_519-042115',\n",
    "                 'V1319_TAU'])\n",
    "\n",
    "bin_names = np.append(bin1, bin2)"
   ]
  },
  {
   "cell_type": "code",
   "execution_count": 6,
   "id": "9078e698",
   "metadata": {},
   "outputs": [],
   "source": [
    "def mask_stars(arr, star_list):\n",
    "    ''' Makes a mask the size of star_list with False where the entry of star_names matches arr. '''\n",
    "    mask = np.ones_like(star_list, dtype = bool)\n",
    "    for i in arr:\n",
    "        idx = np.where(star_list == i)\n",
    "        mask[idx] = False\n",
    "    return mask"
   ]
  },
  {
   "cell_type": "code",
   "execution_count": 7,
   "id": "2a2aa6cb",
   "metadata": {},
   "outputs": [],
   "source": [
    "#Array containing the names of all stars\n",
    "all_stars = np.array(sorted(listdir(path)))"
   ]
  },
  {
   "cell_type": "code",
   "execution_count": 8,
   "id": "d7894513",
   "metadata": {},
   "outputs": [],
   "source": [
    "#Array with the names of single stars\n",
    "sin_names = all_stars[(mask_stars(bin_names, all_stars)*mask_stars(weird_names, all_stars))]"
   ]
  },
  {
   "cell_type": "markdown",
   "id": "077144cf",
   "metadata": {},
   "source": [
    "# 2. Retrieve the data \n",
    "- Write a function which retrieves the name of the star and the date of observation\n",
    "- Write a function to retrieve the data of one star\n",
    "- Write a function which combines all this data into one array"
   ]
  },
  {
   "cell_type": "code",
   "execution_count": 9,
   "id": "4c7d6fad",
   "metadata": {},
   "outputs": [],
   "source": [
    "def star_info(star_list, idx):\n",
    "    ''' Returns the name of the star and date of observation as a tuple. '''\n",
    "    return star_list[idx], listdir(f'{path}/{star_list[idx]}')[0]"
   ]
  },
  {
   "cell_type": "code",
   "execution_count": 10,
   "id": "9404bc86",
   "metadata": {},
   "outputs": [],
   "source": [
    "def star_data(star_list):\n",
    "    ''' Returns the flux data of the stars in star_list in a 3d np.array. '''\n",
    "    arr = np.empty((len(star_list), 1024, 1024))\n",
    "    for i in range(len(star_list)):\n",
    "        name, date = star_info(star_list, i)\n",
    "        with f.open(f'{path}/{name}/{date}/B_H/calibration/flux/' + \n",
    "                    f'{name}_{date}_cube_flux_processed_right.fits') as hdul:\n",
    "            data = hdul[0].data\n",
    "        arr[i] = data[0]\n",
    "    return arr"
   ]
  },
  {
   "cell_type": "code",
   "execution_count": 11,
   "id": "5e9c510e",
   "metadata": {},
   "outputs": [],
   "source": [
    "sin_data = star_data(sin_names)"
   ]
  },
  {
   "cell_type": "markdown",
   "id": "d2a394da",
   "metadata": {},
   "source": [
    "# 3. Data reduction\n",
    "- Circle of radius 100 pixels around center\n",
    "- 200 x 200 pixelsaround center"
   ]
  },
  {
   "cell_type": "code",
   "execution_count": 12,
   "id": "21148a43",
   "metadata": {},
   "outputs": [],
   "source": [
    "def mask_but_center(arr):\n",
    "    ''' Masks everything but the area with radius r in a circle around the center. '''\n",
    "    x = y = np.linspace(-(len(arr))/2, (len(arr))/2, len(arr))\n",
    "    x_grid, y_grid = np.meshgrid(x, y)\n",
    "    r_grid = np.sqrt(x_grid**2 + y_grid**2)\n",
    "    arr[r_grid > 100] = None \n",
    "    return arr\n",
    "\n",
    "def normalize(arr):\n",
    "    ''' Normalizes the array '''\n",
    "    arr = np.array(arr,dtype=np.float64)\n",
    "    return arr/np.nanmax(arr)\n",
    "\n",
    "def data_reduction(arr):\n",
    "    ''' Masks and then normalizes an array with one image. '''\n",
    "    mask_arr = mask_but_center(arr)\n",
    "    norm_arr = normalize(mask_arr)\n",
    "    return norm_arr"
   ]
  },
  {
   "cell_type": "code",
   "execution_count": 25,
   "id": "c2884dbf",
   "metadata": {},
   "outputs": [],
   "source": [
    "#Array with all the single stars but then masked and normalized\n",
    "puck = sin_data[i]\n",
    "sin_clb = np.array([data_reduction(sin_data[i]) for i in range(len(sin_names))])"
   ]
  },
  {
   "cell_type": "code",
   "execution_count": 29,
   "id": "4cf67916",
   "metadata": {},
   "outputs": [
    {
     "data": {
      "text/plain": [
       "<matplotlib.image.AxesImage at 0x7f64745e06d0>"
      ]
     },
     "execution_count": 29,
     "metadata": {},
     "output_type": "execute_result"
    },
    {
     "data": {
      "image/png": "[encoded data removed]",
      "text/plain": [
       "<Figure size 640x480 with 1 Axes>"
      ]
     },
     "metadata": {},
     "output_type": "display_data"
    }
   ],
   "source": []
  },
  {
   "cell_type": "markdown",
   "id": "5b5e76ae",
   "metadata": {},
   "source": [
    "# 4. Finding the perfect median star\n",
    "- Cut out a little square far away from the star\n",
    "- Calculate the RMS of each little square to determine the noise\n",
    "- Combine all these RMS in an array and sort them from best to worst\n",
    "- Write a function that calculates the median of an array of stars\n",
    "- Write a function "
   ]
  },
  {
   "cell_type": "code",
   "execution_count": 26,
   "id": "e53a2eb4",
   "metadata": {},
   "outputs": [],
   "source": [
    "def mask_aperture(arr):\n",
    "    ''' Returns an array with only True values between r = 20 and r = 30. '''\n",
    "    x = y = np.linspace(-(len(arr))/2, (len(arr))/2, len(arr))\n",
    "    x_grid, y_grid = np.meshgrid(x, y)\n",
    "    r_grid = np.sqrt(x_grid**2 + y_grid**2)\n",
    "    arr[r_grid > 30] = None \n",
    "    arr[r_grid < 20] = None\n",
    "    return arr"
   ]
  },
  {
   "cell_type": "code",
   "execution_count": 27,
   "id": "c457b67c",
   "metadata": {},
   "outputs": [],
   "source": [
    "sin_aper = np.array([mask_aperture(sin_clb[i]) for i in range(len(sin_names))])"
   ]
  },
  {
   "cell_type": "code",
   "execution_count": 28,
   "id": "d1a7493b",
   "metadata": {},
   "outputs": [
    {
     "data": {
      "text/plain": [
       "<matplotlib.image.AxesImage at 0x7f64743f8f40>"
      ]
     },
     "execution_count": 28,
     "metadata": {},
     "output_type": "execute_result"
    },
    {
     "data": {
      "image/png": "[encoded data removed]",
      "text/plain": [
       "<Figure size 640x480 with 1 Axes>"
      ]
     },
     "metadata": {},
     "output_type": "display_data"
    }
   ],
   "source": []
  },
  {
   "cell_type": "code",
   "execution_count": 16,
   "id": "c7f619ec",
   "metadata": {},
   "outputs": [
    {
     "data": {
      "image/png": "[encoded data removed]",
      "text/plain": [
       "<Figure size 640x480 with 1 Axes>"
      ]
     },
     "metadata": {},
     "output_type": "display_data"
    }
   ],
   "source": [
    "rms = np.nanstd(sin_aper, axis = (1, 2)) #gives the rms for every patch in every image\n",
    "rms_idx = np.argsort(rms) #makes an array with the best index first and the worst index last\n",
    "rms_sort = rms[rms_idx] #sorts the rms array from best to worst\n",
    "\n",
    "\n",
    "plt.figure()\n",
    "plt.title('RMS plotted vs the index of the image in the array sorted from best to worst RMS')\n",
    "plt.scatter(np.arange(0, len(rms_sort)), rms_sort)\n",
    "plt.xlabel('x')\n",
    "plt.ylabel('rms')\n",
    "plt.show()"
   ]
  },
  {
   "cell_type": "code",
   "execution_count": 18,
   "id": "b6a623b4",
   "metadata": {},
   "outputs": [
    {
     "name": "stdout",
     "output_type": "stream",
     "text": [
      "(64, 1024, 1024)\n"
     ]
    }
   ],
   "source": [
    "sin_aper_data_sort = sin_clb[rms_idx] #sorts the single star array from best rms to worst rms\n",
    "sin_names_sort = sin_names[rms_idx] #if we ever need to know which star is which"
   ]
  },
  {
   "cell_type": "code",
   "execution_count": 20,
   "id": "5608c6d4",
   "metadata": {},
   "outputs": [],
   "source": [
    "#Make an array in which every ith entry is a median of the images from 0 to i in the array sorted from best to\n",
    "#worst rms\n",
    "rms_med_im = np.empty(len(sin_data_sort))\n",
    "for i in range(len(sin_data_sort)):\n",
    "    idx_arr = rms_idx[0:i+1]\n",
    "    med = np.median(sin_data_sort[idx_arr], axis = 0)\n",
    "    med_aper = mask_aperture(med)\n",
    "    rms_med_im[i] = np.nanstd(med_aper)"
   ]
  },
  {
   "cell_type": "code",
   "execution_count": 22,
   "id": "9c029049",
   "metadata": {},
   "outputs": [
    {
     "data": {
      "image/png": "[encoded data removed]",
      "text/plain": [
       "<Figure size 640x480 with 1 Axes>"
      ]
     },
     "metadata": {},
     "output_type": "display_data"
    }
   ],
   "source": [
    "N_keep = np.arange(1, len(rms_med_im)+1)\n",
    "plt.figure()\n",
    "plt.title('RMS of the little patch of the images vs the amount of images used to make the median image')\n",
    "plt.plot(N_keep, rms_med_im/np.sqrt(N_keep))\n",
    "#plt.plot(N_keep, 1/np.sqrt(N_keep))\n",
    "plt.ylabel('rms')\n",
    "plt.xlabel('N_keep')\n",
    "plt.show()"
   ]
  },
  {
   "cell_type": "code",
   "execution_count": 24,
   "id": "a54c639a",
   "metadata": {},
   "outputs": [
    {
     "data": {
      "text/plain": [
       "<matplotlib.image.AxesImage at 0x7f6474453bb0>"
      ]
     },
     "execution_count": 24,
     "metadata": {},
     "output_type": "execute_result"
    },
    {
     "data": {
      "image/png": "[encoded data removed]",
      "text/plain": [
       "<Figure size 640x480 with 1 Axes>"
      ]
     },
     "metadata": {},
     "output_type": "display_data"
    }
   ],
   "source": [
    "plt.imshow(sin_data_sort[4])"
   ]
  },
  {
   "cell_type": "code",
   "execution_count": null,
   "id": "2e33efe8",
   "metadata": {},
   "outputs": [],
   "source": [
    "#Make an array in which every ith entry is the rms image of the images 0 to i sorted from worst to best rms \n",
    "#in the aperture\n",
    "rms_images = np.empty(len(sin_data_sort))\n",
    "for i in range(len(sin_data_sort)):\n",
    "    idx_arr = rms_idx[0:i+1]\n",
    "    \n",
    "    rms_med_im[i] = np.nanstd(med_aper)"
   ]
  },
  {
   "cell_type": "markdown",
   "id": "4823a589",
   "metadata": {},
   "source": [
    "# 5. Subtract median star from test stars"
   ]
  },
  {
   "cell_type": "code",
   "execution_count": null,
   "id": "e1c4e68d",
   "metadata": {},
   "outputs": [],
   "source": [
    "def subtract_star(im, med_st):\n",
    "    ''' Subtract the median star from the image and images the results'''\n",
    "    im = calibration(im, 100)\n",
    "    dx = im - med_st\n",
    "    return dx"
   ]
  },
  {
   "cell_type": "code",
   "execution_count": null,
   "id": "145b642f",
   "metadata": {},
   "outputs": [],
   "source": [
    "rest = subtract_star(star_data(0, single_stars), med_arr)\n",
    "name, date = star_info(0, single_stars)\n",
    "plt.title(f'{name}, {date}')\n",
    "plt.imshow(rest)\n",
    "plt.colorbar()\n",
    "plt.xlim(400, 624)\n",
    "plt.ylim(400, 624)\n",
    "plt.show()"
   ]
  },
  {
   "cell_type": "code",
   "execution_count": null,
   "id": "5019cd0d",
   "metadata": {
    "scrolled": true
   },
   "outputs": [],
   "source": [
    "for i in range(len(single_stars)):\n",
    "    rest = subtract_star(star_data(i, single_stars), med_arr)\n",
    "    name, date = star_info(i, single_stars)\n",
    "#     plt.title(f'{name}, {date}')\n",
    "#     plt.imshow(rest)\n",
    "#     plt.colorbar()\n",
    "#     plt.xlim(500, 524)\n",
    "#     plt.ylim(500, 524)\n",
    "#     plt.show()\n",
    "    \n",
    "    plt.figure(figsize=(10,5))\n",
    "    plt.subplot(1,2,1)\n",
    "    plt.imshow(rest)\n",
    "    plt.xlim(400, 624)\n",
    "    plt.ylim(400, 624)\n",
    "\n",
    "    plt.subplot(1,2,2)\n",
    "    plt.imshow(rest)\n",
    "    plt.colorbar()\n",
    "    plt.xlim(500, 524)\n",
    "    plt.ylim(500, 524)\n",
    "\n",
    "    plt.suptitle(f'{name}, {date}')\n",
    "    plt.show()"
   ]
  },
  {
   "cell_type": "code",
   "execution_count": null,
   "id": "cb86d742",
   "metadata": {},
   "outputs": [],
   "source": [
    "subtract_star(star_data(path_sin, 1), med_arr)\n",
    "name, date = star_info(path_sin, 1)\n",
    "plt.title(f'{name}, {date}')\n",
    "plt.imshow(rest)\n",
    "plt.colorbar()\n",
    "plt.xlim(500, 524)\n",
    "plt.ylim(500, 524)\n",
    "plt.show()"
   ]
  },
  {
   "cell_type": "markdown",
   "id": "592c8124",
   "metadata": {},
   "source": [
    "# .reg files\n",
    "1. Want to open them\n",
    "2. Want to be able to read them\n",
    "3. Search for key word circle\n",
    "4. Save x and y coordinate\n",
    "    - Are all coordinates equally long? --> if not begin next at ,\n",
    "    - Do not save radius too"
   ]
  },
  {
   "cell_type": "code",
   "execution_count": null,
   "id": "e7b9ee75",
   "metadata": {},
   "outputs": [],
   "source": []
  },
  {
   "cell_type": "code",
   "execution_count": null,
   "id": "b36bf5ba",
   "metadata": {},
   "outputs": [],
   "source": [
    "def find_x_y_reg(file, loc_circle, sep):\n",
    "    ''' Opens the .reg file and returns the x and y coordinate in the file. loc_circle is the number of the line\n",
    "    where the information on the circle is stored and sep is the thing used for seperating the x and y coord. '''\n",
    "    with open(file, 'rt') as reg:\n",
    "        data_reg = reg.readlines()\n",
    "        data_reg = data_reg[loc_circle]\n",
    "    \n",
    "    first, second = data_reg.find(sep), data_reg.rfind(sep)\n",
    "    return float(data_reg[7:first]), float(data_reg[(first+1):second])"
   ]
  },
  {
   "cell_type": "code",
   "execution_count": null,
   "id": "aed513f3",
   "metadata": {},
   "outputs": [],
   "source": [
    "x, y = find_x_y_reg(f'data/{star}/{date}/{star}_{date}.reg', 3, ',')"
   ]
  },
  {
   "cell_type": "code",
   "execution_count": null,
   "id": "aa7a7167",
   "metadata": {},
   "outputs": [],
   "source": [
    "x"
   ]
  },
  {
   "cell_type": "code",
   "execution_count": null,
   "id": "87573e6a",
   "metadata": {},
   "outputs": [],
   "source": []
  }
 ],
 "metadata": {
  "kernelspec": {
   "display_name": "Python 3 (ipykernel)",
   "language": "python",
   "name": "python3"
  },
  "language_info": {
   "codemirror_mode": {
    "name": "ipython",
    "version": 3
   },
   "file_extension": ".py",
   "mimetype": "text/x-python",
   "name": "python",
   "nbconvert_exporter": "python",
   "pygments_lexer": "ipython3",
   "version": "3.10.9"
  }
 },
 "nbformat": 4,
 "nbformat_minor": 5
}
